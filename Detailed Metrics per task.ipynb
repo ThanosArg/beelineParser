{
 "cells": [
  {
   "cell_type": "code",
   "execution_count": 1,
   "id": "f89b53f3",
   "metadata": {},
   "outputs": [],
   "source": [
    "import json"
   ]
  },
  {
   "cell_type": "code",
   "execution_count": 4,
   "id": "43d2fc23",
   "metadata": {},
   "outputs": [],
   "source": [
    "def Create_file_Detailed_Metrics_per_task():\n",
    "    d = {}\n",
    "    items = {}\n",
    "    with open('beeline_consent_query_stderr.txt', 'r') as file:\n",
    "        lines = file.readlines()\n",
    "        lineNumber = 0\n",
    "    #Creating indexes for text extraction\n",
    "        for line in lines:        \n",
    "            if line.startswith(\"INFO  : org.apache.tez.common.counters.DAGCounter:\"):\n",
    "                start_index = lineNumber                  \n",
    "            if line.startswith(\"INFO  : Completed executing command\"):\n",
    "                end_index = lineNumber\n",
    "            lineNumber+=1\n",
    "        text = lines[start_index:end_index]   \n",
    "    #Creating the nested dictionary  \n",
    "        for t in text:\n",
    "                parts = t.split(':')\n",
    "                if len(parts) == 3:\n",
    "                    tasks = parts[1].strip()\n",
    "                    metrics = parts[2].strip().split(' ')\n",
    "                    if len(metrics) == 1 and metrics == ['']:\n",
    "                        items = {}\n",
    "                        d[tasks] = items\n",
    "                    elif len(metrics) == 1 and metrics != ['']:\n",
    "                        items[tasks] = int(' '.join(metrics))\n",
    "\n",
    "    out_file = open(\"Detailed Metrics per task.json\", \"w\")\n",
    "\n",
    "    json.dump(d, out_file, indent = 6)\n",
    "\n",
    "    out_file.close()\n",
    "     \n"
   ]
  },
  {
   "cell_type": "code",
   "execution_count": 5,
   "id": "538b0cf7",
   "metadata": {},
   "outputs": [],
   "source": [
    "Create_file_Detailed_Metrics_per_task()"
   ]
  },
  {
   "cell_type": "code",
   "execution_count": null,
   "id": "ba957bc1",
   "metadata": {},
   "outputs": [],
   "source": []
  }
 ],
 "metadata": {
  "kernelspec": {
   "display_name": "Python 3 (ipykernel)",
   "language": "python",
   "name": "python3"
  },
  "language_info": {
   "codemirror_mode": {
    "name": "ipython",
    "version": 3
   },
   "file_extension": ".py",
   "mimetype": "text/x-python",
   "name": "python",
   "nbconvert_exporter": "python",
   "pygments_lexer": "ipython3",
   "version": "3.11.4"
  }
 },
 "nbformat": 4,
 "nbformat_minor": 5
}

{
 "cells": [
  {
   "cell_type": "code",
   "execution_count": 1,
   "id": "77b62b50",
   "metadata": {},
   "outputs": [],
   "source": [
    "import json"
   ]
  },
  {
   "cell_type": "code",
   "execution_count": 2,
   "id": "83ac621d",
   "metadata": {},
   "outputs": [],
   "source": [
    "def Create_file_Task_Execution_Summary():\n",
    "    k = 5\n",
    "    d = {}\n",
    "    m = []\n",
    "    li = []\n",
    "    with open('beeline_consent_query_stderr.txt', 'r') as file:\n",
    "    #Creating indexes for text extraction\n",
    "        lines = file.readlines()\n",
    "        lineNumber = 0\n",
    "        i = 0\n",
    "        for line in lines:\n",
    "            if line.startswith(\"INFO  :   VERTICES\"):\n",
    "                vertex = line.split()\n",
    "            lineNumber+=1\n",
    "            if line.startswith(\"INFO  : Task Execution Summary\"):\n",
    "                start_index = lineNumber+3\n",
    "            if line.startswith(\"INFO  : org.apache.tez.common.counters.DAGCounter:\"):\n",
    "                end_index = lineNumber-3\n",
    "                break;\n",
    "        vertices = vertex[3:]\n",
    "        text = lines[start_index:end_index]\n",
    "    #Parsing \n",
    "        for t in text:      \n",
    "            t = t.strip().split(':')\n",
    "            query = t[1].split() \n",
    "            maps = ' '.join(query[:2]) \n",
    "            time = ' '.join(query[2:]).split() \n",
    "            m.append(maps)\n",
    "            for j in range(len(vertices)):\n",
    "                l = {vertices[j] : time[i]}\n",
    "                li.append(l)\n",
    "                i+=1\n",
    "            i=0\n",
    "\n",
    "    #Creating nested dictionary\n",
    "    for i in range(len(m)):\n",
    "        index = i * 5\n",
    "        temp_dict = {}    \n",
    "        for j in range(index, index + 5):\n",
    "            key, value = li[j].popitem()\n",
    "            temp_dict[key] = value \n",
    "        d[m[i]] = temp_dict\n",
    "\n",
    "    #Creating the output json file\n",
    "    out_file = open(\"Task Execution Summary.json\", \"w\")\n",
    "\n",
    "    json.dump(d, out_file, indent = 6)\n",
    "\n",
    "    out_file.close()\n",
    "\n",
    "    \n",
    "  "
   ]
  },
  {
   "cell_type": "code",
   "execution_count": 3,
   "id": "07cb7097",
   "metadata": {},
   "outputs": [],
   "source": [
    "Create_file_Task_Execution_Summary()"
   ]
  },
  {
   "cell_type": "code",
   "execution_count": null,
   "id": "ffdd2b84",
   "metadata": {},
   "outputs": [],
   "source": []
  }
 ],
 "metadata": {
  "kernelspec": {
   "display_name": "Python 3 (ipykernel)",
   "language": "python",
   "name": "python3"
  },
  "language_info": {
   "codemirror_mode": {
    "name": "ipython",
    "version": 3
   },
   "file_extension": ".py",
   "mimetype": "text/x-python",
   "name": "python",
   "nbconvert_exporter": "python",
   "pygments_lexer": "ipython3",
   "version": "3.11.4"
  }
 },
 "nbformat": 4,
 "nbformat_minor": 5
}

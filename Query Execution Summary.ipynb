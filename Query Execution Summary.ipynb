{
 "cells": [
  {
   "cell_type": "code",
   "execution_count": 3,
   "id": "ce16f104",
   "metadata": {},
   "outputs": [],
   "source": [
    "import json"
   ]
  },
  {
   "cell_type": "code",
   "execution_count": 10,
   "id": "5e0b31ab",
   "metadata": {},
   "outputs": [],
   "source": [
    "d = {}\n",
    "def Create_file_Query_Execution_Summary():\n",
    "    with open('beeline_consent_query_stderr.txt', 'r') as file:\n",
    "        lines = file.readlines()\n",
    "        lineNumber = 0\n",
    "    #Creating indexes for text extraction\n",
    "        for line in lines:\n",
    "            lineNumber+=1\n",
    "            if line.startswith(\"INFO  : OPERATION\"):\n",
    "                start_index = lineNumber+1\n",
    "            if line.startswith(\"INFO  : Task Execution Summary\"):\n",
    "                end_index = lineNumber-3\n",
    "                break;\n",
    "    #Parsing & creating the dictionary with OPERATION - DURATION\n",
    "        text = lines[start_index:end_index]\n",
    "        for t in text:\n",
    "            t = t.strip().split(':') \n",
    "            query = t[1].split()\n",
    "            operation = ' '.join(query[:-1])\n",
    "            duration = query[-1].replace('s','')\n",
    "            d[operation] = duration\n",
    "\n",
    "    #Creating the output json file\n",
    "        out_file = open(\"Query Execution Summary.json\", \"w\")\n",
    "\n",
    "        json.dump(d, out_file, indent = 6)\n",
    "\n",
    "        out_file.close()\n"
   ]
  },
  {
   "cell_type": "code",
   "execution_count": 11,
   "id": "57f756d3",
   "metadata": {},
   "outputs": [],
   "source": [
    "create_Query_Execution_Summary()"
   ]
  },
  {
   "cell_type": "code",
   "execution_count": null,
   "id": "eaa61b8e",
   "metadata": {},
   "outputs": [],
   "source": []
  }
 ],
 "metadata": {
  "kernelspec": {
   "display_name": "Python 3 (ipykernel)",
   "language": "python",
   "name": "python3"
  },
  "language_info": {
   "codemirror_mode": {
    "name": "ipython",
    "version": 3
   },
   "file_extension": ".py",
   "mimetype": "text/x-python",
   "name": "python",
   "nbconvert_exporter": "python",
   "pygments_lexer": "ipython3",
   "version": "3.11.4"
  }
 },
 "nbformat": 4,
 "nbformat_minor": 5
}
